{
 "cells": [
  {
   "cell_type": "markdown",
   "metadata": {},
   "source": [
    "## 准备数据"
   ]
  },
  {
   "cell_type": "code",
   "execution_count": 1,
   "metadata": {},
   "outputs": [],
   "source": [
    "import os\n",
    "import numpy as np\n",
    "import tensorflow as tf\n",
    "from tensorflow import keras\n",
    "from tensorflow.keras import layers, optimizers, datasets\n",
    "\n",
    "os.environ['TF_CPP_MIN_LOG_LEVEL'] = '2'  # or any {'0', '1', '2'}\n",
    "\n",
    "def mnist_dataset():\n",
    "    (x, y), (x_test, y_test) = datasets.mnist.load_data()\n",
    "    #normalize\n",
    "    x = x/255.0\n",
    "    x_test = x_test/255.0\n",
    "    \n",
    "    return (x, y), (x_test, y_test)"
   ]
  },
  {
   "cell_type": "code",
   "execution_count": 2,
   "metadata": {},
   "outputs": [
    {
     "name": "stdout",
     "output_type": "stream",
     "text": [
      "[(1, 'a'), (2, 'b'), (3, 'c'), (4, 'd')]\n"
     ]
    }
   ],
   "source": [
    "print(list(zip([1, 2, 3, 4], ['a', 'b', 'c', 'd'])))"
   ]
  },
  {
   "cell_type": "markdown",
   "metadata": {},
   "source": [
    "## 建立模型"
   ]
  },
  {
   "cell_type": "code",
   "execution_count": 3,
   "metadata": {},
   "outputs": [],
   "source": [
    "class myModel:\n",
    "    def __init__(self):\n",
    "        ####################\n",
    "        '''声明模型对应的参数'''\n",
    "        self.W1 = tf.Variable(tf.random.normal(shape=(28 * 28, 128), stddev=0.01), trainable=True)\n",
    "        self.b1 = tf.Variable(tf.zeros(shape=(128,)), trainable=True)\n",
    "        self.W2 = tf.Variable(tf.random.normal(shape=(128, 10), stddev=0.01), trainable=True)\n",
    "        self.b2 = tf.Variable(tf.zeros(shape=(10,)), trainable=True)\n",
    "        ####################\n",
    "    def __call__(self, x):\n",
    "        ####################\n",
    "        '''实现模型函数体，返回未归一化的logits'''\n",
    "        ####################\n",
    "        x_flattened = tf.reshape(x, [-1, 784])\n",
    "        h1 = tf.matmul(x_flattened, self.W1) + self.b1\n",
    "        activated_h1 = tf.tanh(h1)\n",
    "        logits = tf.matmul(activated_h1, self.W2) + self.b2\n",
    "        return logits\n",
    "\n",
    "model = myModel()\n",
    "\n",
    "optimizer = optimizers.Adam()"
   ]
  },
  {
   "cell_type": "markdown",
   "metadata": {},
   "source": [
    "## 计算 loss"
   ]
  },
  {
   "cell_type": "code",
   "execution_count": 4,
   "metadata": {},
   "outputs": [],
   "source": [
    "@tf.function\n",
    "def compute_loss(logits, labels):\n",
    "    return tf.reduce_mean(\n",
    "        tf.nn.sparse_softmax_cross_entropy_with_logits(\n",
    "            logits=logits, labels=labels))\n",
    "\n",
    "@tf.function\n",
    "def compute_accuracy(logits, labels):\n",
    "    predictions = tf.argmax(logits, axis=1)\n",
    "    return tf.reduce_mean(tf.cast(tf.equal(predictions, labels), tf.float32))\n",
    "\n",
    "@tf.function\n",
    "def train_one_step(model, optimizer, x, y):\n",
    "    with tf.GradientTape() as tape:\n",
    "        logits = model(x)\n",
    "        loss = compute_loss(logits, y)\n",
    "\n",
    "    # compute gradient\n",
    "    trainable_vars = [model.W1, model.W2, model.b1, model.b2]\n",
    "    grads = tape.gradient(loss, trainable_vars)\n",
    "    for g, v in zip(grads, trainable_vars):\n",
    "        v.assign_sub(0.01*g)\n",
    "\n",
    "    accuracy = compute_accuracy(logits, y)\n",
    "\n",
    "    # loss and accuracy is scalar tensor\n",
    "    return loss, accuracy\n",
    "\n",
    "@tf.function\n",
    "def test(model, x, y):\n",
    "    logits = model(x)\n",
    "    loss = compute_loss(logits, y)\n",
    "    accuracy = compute_accuracy(logits, y)\n",
    "    return loss, accuracy"
   ]
  },
  {
   "cell_type": "markdown",
   "metadata": {},
   "source": [
    "## 实际训练"
   ]
  },
  {
   "cell_type": "code",
   "execution_count": 5,
   "metadata": {},
   "outputs": [
    {
     "name": "stdout",
     "output_type": "stream",
     "text": [
      "epoch 0 : loss 2.301402 ; accuracy 0.09993333\n",
      "epoch 1 : loss 2.301137 ; accuracy 0.10501666\n",
      "epoch 2 : loss 2.3008716 ; accuracy 0.11038333\n",
      "epoch 3 : loss 2.3006063 ; accuracy 0.116\n",
      "epoch 4 : loss 2.300341 ; accuracy 0.12255\n",
      "epoch 5 : loss 2.3000755 ; accuracy 0.1293\n",
      "epoch 6 : loss 2.2998104 ; accuracy 0.13613333\n",
      "epoch 7 : loss 2.2995446 ; accuracy 0.14241667\n",
      "epoch 8 : loss 2.299279 ; accuracy 0.14933333\n",
      "epoch 9 : loss 2.2990131 ; accuracy 0.15633333\n",
      "epoch 10 : loss 2.298747 ; accuracy 0.16403334\n",
      "epoch 11 : loss 2.2984807 ; accuracy 0.17183334\n",
      "epoch 12 : loss 2.2982147 ; accuracy 0.18021667\n",
      "epoch 13 : loss 2.297948 ; accuracy 0.18745\n",
      "epoch 14 : loss 2.297681 ; accuracy 0.19461666\n",
      "epoch 15 : loss 2.2974138 ; accuracy 0.20211667\n",
      "epoch 16 : loss 2.2971463 ; accuracy 0.20976667\n",
      "epoch 17 : loss 2.2968786 ; accuracy 0.21708333\n",
      "epoch 18 : loss 2.2966106 ; accuracy 0.22471666\n",
      "epoch 19 : loss 2.2963421 ; accuracy 0.23236667\n",
      "epoch 20 : loss 2.2960734 ; accuracy 0.2394\n",
      "epoch 21 : loss 2.2958043 ; accuracy 0.24636666\n",
      "epoch 22 : loss 2.2955346 ; accuracy 0.254\n",
      "epoch 23 : loss 2.2952645 ; accuracy 0.26061666\n",
      "epoch 24 : loss 2.294994 ; accuracy 0.2662\n",
      "epoch 25 : loss 2.2947233 ; accuracy 0.27248332\n",
      "epoch 26 : loss 2.2944522 ; accuracy 0.27866668\n",
      "epoch 27 : loss 2.29418 ; accuracy 0.28516668\n",
      "epoch 28 : loss 2.2939076 ; accuracy 0.29043335\n",
      "epoch 29 : loss 2.2936344 ; accuracy 0.29676667\n",
      "epoch 30 : loss 2.2933607 ; accuracy 0.30235\n",
      "epoch 31 : loss 2.2930868 ; accuracy 0.30816665\n",
      "epoch 32 : loss 2.2928119 ; accuracy 0.3135\n",
      "epoch 33 : loss 2.2925365 ; accuracy 0.31918332\n",
      "epoch 34 : loss 2.2922604 ; accuracy 0.32448334\n",
      "epoch 35 : loss 2.2919838 ; accuracy 0.32936665\n",
      "epoch 36 : loss 2.2917066 ; accuracy 0.33391666\n",
      "epoch 37 : loss 2.2914283 ; accuracy 0.339\n",
      "epoch 38 : loss 2.2911494 ; accuracy 0.34336665\n",
      "epoch 39 : loss 2.2908697 ; accuracy 0.34766668\n",
      "epoch 40 : loss 2.2905896 ; accuracy 0.35233334\n",
      "epoch 41 : loss 2.2903082 ; accuracy 0.35661668\n",
      "epoch 42 : loss 2.2900267 ; accuracy 0.36078334\n",
      "epoch 43 : loss 2.2897434 ; accuracy 0.36456665\n",
      "epoch 44 : loss 2.28946 ; accuracy 0.36866668\n",
      "epoch 45 : loss 2.2891755 ; accuracy 0.37205\n",
      "epoch 46 : loss 2.2888901 ; accuracy 0.37615\n",
      "epoch 47 : loss 2.288604 ; accuracy 0.38001665\n",
      "epoch 48 : loss 2.2883165 ; accuracy 0.38375\n",
      "epoch 49 : loss 2.2880282 ; accuracy 0.3876\n",
      "test loss 2.2873237 ; accuracy 0.3917\n"
     ]
    }
   ],
   "source": [
    "train_data, test_data = mnist_dataset()\n",
    "for epoch in range(50):\n",
    "    loss, accuracy = train_one_step(model, optimizer,\n",
    "                                    tf.constant(train_data[0], dtype=tf.float32),\n",
    "                                    tf.constant(train_data[1], dtype=tf.int64))\n",
    "    print('epoch', epoch, ': loss', loss.numpy(), '; accuracy', accuracy.numpy())\n",
    "loss, accuracy = test(model,\n",
    "                      tf.constant(test_data[0], dtype=tf.float32),\n",
    "                      tf.constant(test_data[1], dtype=tf.int64))\n",
    "\n",
    "print('test loss', loss.numpy(), '; accuracy', accuracy.numpy())"
   ]
  },
  {
   "cell_type": "code",
   "execution_count": null,
   "metadata": {},
   "outputs": [],
   "source": []
  },
  {
   "cell_type": "code",
   "execution_count": null,
   "metadata": {},
   "outputs": [],
   "source": []
  },
  {
   "cell_type": "code",
   "execution_count": null,
   "metadata": {},
   "outputs": [],
   "source": []
  },
  {
   "cell_type": "code",
   "execution_count": null,
   "metadata": {},
   "outputs": [],
   "source": []
  }
 ],
 "metadata": {
  "kernelspec": {
   "display_name": "Python 3 (ipykernel)",
   "language": "python",
   "name": "python3"
  },
  "language_info": {
   "codemirror_mode": {
    "name": "ipython",
    "version": 3
   },
   "file_extension": ".py",
   "mimetype": "text/x-python",
   "name": "python",
   "nbconvert_exporter": "python",
   "pygments_lexer": "ipython3",
   "version": "3.11.5"
  }
 },
 "nbformat": 4,
 "nbformat_minor": 4
}
